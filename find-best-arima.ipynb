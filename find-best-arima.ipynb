{
 "cells": [
  {
   "cell_type": "code",
   "execution_count": 4,
   "metadata": {
    "collapsed": true
   },
   "outputs": [],
   "source": [
    "test = \"\"\"ARIMA(0,1,0)(constant=FALSE) : -17760.3\n",
    "ARIMA(0,1,1)(constant=FALSE) : -17763.25\n",
    "ARIMA(0,1,2)(constant=FALSE) : -17761.68\n",
    "ARIMA(1,1,0)(constant=FALSE) : -17763.37\n",
    "ARIMA(1,1,1)(constant=FALSE) : -17761.47\n",
    "ARIMA(1,1,2)(constant=FALSE) : -17759.65\n",
    "ARIMA(2,1,0)(constant=FALSE) : -17761.62\n",
    "ARIMA(2,1,1)(constant=FALSE) : -17759.63\n",
    "ARIMA(2,1,2)(constant=FALSE) : -17757.75\n",
    "ARIMA(0,1,0)(constant=TRUE) : -17758.52\n",
    "ARIMA(0,1,1)(constant=TRUE) : -17761.49\n",
    "ARIMA(0,1,2)(constant=TRUE) : -17759.91\n",
    "ARIMA(1,1,0)(constant=TRUE) : -17761.61\n",
    "ARIMA(1,1,1)(constant=TRUE) : -17759.77\n",
    "ARIMA(1,1,2)(constant=TRUE) : -17757.89\n",
    "ARIMA(2,1,0)(constant=TRUE) : -17759.86\n",
    "ARIMA(2,1,1)(constant=TRUE) : -17757.86\n",
    "ARIMA(2,1,2)(constant=TRUE) : -17755.98\"\"\""
   ]
  },
  {
   "cell_type": "code",
   "execution_count": 6,
   "metadata": {},
   "outputs": [],
   "source": [
    "test_dict = dict(item.split(\" : \") for item in test.split(\"\\n\"))"
   ]
  },
  {
   "cell_type": "code",
   "execution_count": 16,
   "metadata": {},
   "outputs": [
    {
     "data": {
      "text/plain": [
       "-17763.37"
      ]
     },
     "execution_count": 16,
     "metadata": {},
     "output_type": "execute_result"
    }
   ],
   "source": [
    "min([float(item) for item in test_dict.values()])"
   ]
  },
  {
   "cell_type": "code",
   "execution_count": null,
   "metadata": {
    "collapsed": true
   },
   "outputs": [],
   "source": []
  }
 ],
 "metadata": {
  "kernelspec": {
   "display_name": "Python 3",
   "language": "python",
   "name": "python3"
  },
  "language_info": {
   "codemirror_mode": {
    "name": "ipython",
    "version": 3
   },
   "file_extension": ".py",
   "mimetype": "text/x-python",
   "name": "python",
   "nbconvert_exporter": "python",
   "pygments_lexer": "ipython3",
   "version": "3.6.1"
  }
 },
 "nbformat": 4,
 "nbformat_minor": 2
}
