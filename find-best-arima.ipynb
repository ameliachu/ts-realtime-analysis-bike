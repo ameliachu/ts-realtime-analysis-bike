{
 "cells": [
  {
   "cell_type": "code",
   "execution_count": 4,
   "metadata": {
    "collapsed": true
   },
   "outputs": [],
   "source": [
    "test = \"\"\"ARIMA(0,1,0)(constant=FALSE) : -46902\n",
    "ARIMA(0,1,1)(constant=FALSE) : -46958.35\n",
    "ARIMA(0,1,2)(constant=FALSE) : -46961.45\n",
    "ARIMA(0,1,3)(constant=FALSE) : -46959.47\n",
    "ARIMA(0,1,4)(constant=FALSE) : -47001.25\n",
    "ARIMA(1,1,0)(constant=FALSE) : -46960.51\n",
    "ARIMA(1,1,1)(constant=FALSE) : -46963.24\n",
    "ARIMA(1,1,2)(constant=FALSE) : -46959.45\n",
    "ARIMA(1,1,3)(constant=FALSE) : -46957.45\n",
    "ARIMA(1,1,4)(constant=FALSE) : -47018.71\n",
    "ARIMA(2,1,0)(constant=FALSE) : -46961.91\n",
    "ARIMA(2,1,1)(constant=FALSE) : -46959.9\n",
    "ARIMA(2,1,2)(constant=FALSE) : -46959.72\n",
    "ARIMA(2,1,3)(constant=FALSE) : -46986.12\n",
    "ARIMA(2,1,4)(constant=FALSE) : -47039.36\n",
    "ARIMA(3,1,0)(constant=FALSE) : -46959.97\n",
    "ARIMA(3,1,1)(constant=FALSE) : -46957.91\n",
    "ARIMA(3,1,2)(constant=FALSE) : -46982.99\n",
    "ARIMA(3,1,4)(constant=FALSE) : -47051.17\n",
    "ARIMA(4,1,0)(constant=FALSE) : -46993.07\n",
    "ARIMA(4,1,1)(constant=FALSE) : -47014.74\n",
    "ARIMA(4,1,2)(constant=FALSE) : -47043.02\n",
    "ARIMA(4,1,3)(constant=FALSE) : -47050.91\n",
    "ARIMA(4,1,4)(constant=FALSE) : -47049.37\n",
    "ARIMA(0,1,0)(constant=TRUE) : -46900.09\n",
    "ARIMA(0,1,1)(constant=TRUE) : -46956.43\n",
    "ARIMA(0,1,2)(constant=TRUE) : -46959.53\n",
    "ARIMA(0,1,3)(constant=TRUE) : -46957.55\n",
    "ARIMA(0,1,4)(constant=TRUE) : -46999.32\n",
    "ARIMA(1,1,0)(constant=TRUE) : -46958.59\n",
    "ARIMA(1,1,1)(constant=TRUE) : -46961.76\n",
    "ARIMA(1,1,2)(constant=TRUE) : -46957.53\n",
    "ARIMA(1,1,3)(constant=TRUE) : -46955.53\n",
    "ARIMA(1,1,4)(constant=TRUE) : -47016.79\n",
    "ARIMA(2,1,0)(constant=TRUE) : -46959.99\n",
    "ARIMA(2,1,1)(constant=TRUE) : -46957.98\n",
    "ARIMA(2,1,2)(constant=TRUE) : -46957.81\n",
    "ARIMA(2,1,3)(constant=TRUE) : -46984.2\n",
    "ARIMA(2,1,4)(constant=TRUE) : -47035.25\n",
    "ARIMA(3,1,0)(constant=TRUE) : -46958.05\n",
    "ARIMA(3,1,1)(constant=TRUE) : -46955.99\n",
    "ARIMA(3,1,2)(constant=TRUE) : -46980.94\n",
    "ARIMA(3,1,3)(constant=TRUE) : -47050.73\n",
    "ARIMA(3,1,4)(constant=TRUE) : -47049.09\n",
    "ARIMA(4,1,0)(constant=TRUE) : -46991.14\n",
    "ARIMA(4,1,1)(constant=TRUE) : -47012.81\n",
    "ARIMA(4,1,2)(constant=TRUE) : -47041.1\n",
    "ARIMA(4,1,3)(constant=TRUE) : -47048.97\n",
    "ARIMA(4,1,4)(constant=TRUE) : -47047.36\"\"\""
   ]
  },
  {
   "cell_type": "code",
   "execution_count": 5,
   "metadata": {
    "collapsed": true
   },
   "outputs": [],
   "source": [
    "test_dict = dict(item.split(\" : \") for item in test.split(\"\\n\"))"
   ]
  },
  {
   "cell_type": "code",
   "execution_count": 6,
   "metadata": {},
   "outputs": [
    {
     "data": {
      "text/plain": [
       "-47051.17"
      ]
     },
     "execution_count": 6,
     "metadata": {},
     "output_type": "execute_result"
    }
   ],
   "source": [
    "min([float(item) for item in test_dict.values()])"
   ]
  },
  {
   "cell_type": "code",
   "execution_count": null,
   "metadata": {
    "collapsed": true
   },
   "outputs": [],
   "source": [
    "ARIMA(3,1,3)(constant=FALSE) : -47052.78"
   ]
  }
 ],
 "metadata": {
  "kernelspec": {
   "display_name": "Python 3",
   "language": "python",
   "name": "python3"
  },
  "language_info": {
   "codemirror_mode": {
    "name": "ipython",
    "version": 3
   },
   "file_extension": ".py",
   "mimetype": "text/x-python",
   "name": "python",
   "nbconvert_exporter": "python",
   "pygments_lexer": "ipython3",
   "version": "3.6.1"
  }
 },
 "nbformat": 4,
 "nbformat_minor": 2
}
