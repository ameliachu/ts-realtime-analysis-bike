{
 "cells": [
  {
   "cell_type": "code",
   "execution_count": 20,
   "metadata": {
    "collapsed": true
   },
   "outputs": [],
   "source": [
    "test = \"\"\"ARIMA(0,1,0)(constant=FALSE) : -30784.02\n",
    "ARIMA(0,1,1)(constant=FALSE) : -30790.89\n",
    "ARIMA(0,1,2)(constant=FALSE) : -30795.83\n",
    "ARIMA(0,1,3)(constant=FALSE) : -30795.27\n",
    "ARIMA(0,1,4)(constant=FALSE) : -30862.25\n",
    "ARIMA(1,1,0)(constant=FALSE) : -30791.43\n",
    "ARIMA(1,1,1)(constant=FALSE) : -30806.27\n",
    "ARIMA(1,1,2)(constant=FALSE) : -30804.93\n",
    "ARIMA(1,1,3)(constant=FALSE) : -30803.46\n",
    "ARIMA(1,1,4)(constant=FALSE) : -30888.83\n",
    "ARIMA(2,1,0)(constant=FALSE) : -30797.41\n",
    "ARIMA(2,1,1)(constant=FALSE) : -30804.93\n",
    "ARIMA(2,1,2)(constant=FALSE) : -30823.23\n",
    "ARIMA(2,1,3)(constant=FALSE) : -30826.06\n",
    "ARIMA(2,1,4)(constant=FALSE) : -30909.54\n",
    "ARIMA(3,1,0)(constant=FALSE) : -30796.78\n",
    "ARIMA(3,1,1)(constant=FALSE) : -30803.29\n",
    "ARIMA(3,1,2)(constant=FALSE) : -30825.01\n",
    "ARIMA(3,1,3)(constant=FALSE) : -30875.23\n",
    "ARIMA(3,1,4)(constant=FALSE) : -30907.86\n",
    "ARIMA(4,1,0)(constant=FALSE) : -30855.19\n",
    "ARIMA(4,1,1)(constant=FALSE) : -30884.36\n",
    "ARIMA(4,1,2)(constant=FALSE) : -30907.85\n",
    "ARIMA(4,1,3)(constant=FALSE) : -30905.83\n",
    "ARIMA(4,1,4)(constant=FALSE) : -30908.57\n",
    "ARIMA(0,1,0)(constant=TRUE) : -30782.02\n",
    "ARIMA(0,1,1)(constant=TRUE) : -30788.89\n",
    "ARIMA(0,1,2)(constant=TRUE) : -30793.84\n",
    "ARIMA(0,1,3)(constant=TRUE) : -30793.28\n",
    "ARIMA(0,1,4)(constant=TRUE) : -30860.25\n",
    "ARIMA(1,1,0)(constant=TRUE) : -30789.44\n",
    "ARIMA(1,1,1)(constant=TRUE) : -30804.33\n",
    "ARIMA(1,1,2)(constant=TRUE) : -30802.89\n",
    "ARIMA(1,1,3)(constant=TRUE) : -30801.35\n",
    "ARIMA(1,1,4)(constant=TRUE) : -30886.84\n",
    "ARIMA(2,1,0)(constant=TRUE) : -30795.42\n",
    "ARIMA(2,1,1)(constant=TRUE) : -30802.97\n",
    "ARIMA(2,1,2)(constant=TRUE) : -30821.23\n",
    "ARIMA(2,1,3)(constant=TRUE) : -30824.09\n",
    "ARIMA(2,1,4)(constant=TRUE) : -30907.54\n",
    "ARIMA(3,1,0)(constant=TRUE) : -30794.79\n",
    "ARIMA(3,1,1)(constant=TRUE) : -30801.33\n",
    "ARIMA(3,1,2)(constant=TRUE) : -30823.08\n",
    "ARIMA(3,1,3)(constant=TRUE) : -30873.38\n",
    "ARIMA(3,1,4)(constant=TRUE) : -30905.86\n",
    "ARIMA(4,1,0)(constant=TRUE) : -30853.2\n",
    "ARIMA(4,1,1)(constant=TRUE) : -30882.36\n",
    "ARIMA(4,1,2)(constant=TRUE) : -30905.88\n",
    "ARIMA(4,1,3)(constant=TRUE) : -30903.89\n",
    "ARIMA(4,1,4)(constant=TRUE) : -30906.5\"\"\""
   ]
  },
  {
   "cell_type": "code",
   "execution_count": 21,
   "metadata": {
    "collapsed": true
   },
   "outputs": [],
   "source": [
    "test_dict = dict(item.split(\" : \") for item in test.split(\"\\n\"))"
   ]
  },
  {
   "cell_type": "code",
   "execution_count": 22,
   "metadata": {},
   "outputs": [
    {
     "data": {
      "text/plain": [
       "-30909.54"
      ]
     },
     "execution_count": 22,
     "metadata": {},
     "output_type": "execute_result"
    }
   ],
   "source": [
    "min([float(item) for item in test_dict.values()])"
   ]
  },
  {
   "cell_type": "code",
   "execution_count": null,
   "metadata": {
    "collapsed": true
   },
   "outputs": [],
   "source": []
  }
 ],
 "metadata": {
  "kernelspec": {
   "display_name": "Python 3",
   "language": "python",
   "name": "python3"
  },
  "language_info": {
   "codemirror_mode": {
    "name": "ipython",
    "version": 3
   },
   "file_extension": ".py",
   "mimetype": "text/x-python",
   "name": "python",
   "nbconvert_exporter": "python",
   "pygments_lexer": "ipython3",
   "version": "3.6.1"
  }
 },
 "nbformat": 4,
 "nbformat_minor": 2
}
